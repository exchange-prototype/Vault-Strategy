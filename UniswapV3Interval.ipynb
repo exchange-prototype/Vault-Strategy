{
 "cells": [
  {
   "cell_type": "code",
   "execution_count": 4,
   "metadata": {},
   "outputs": [],
   "source": [
    "# d for coin futures, f for usd s futures\n",
    "from datetime import datetime, timedelta\n",
    "import pandas as pd\n",
    "import matplotlib.pyplot as plt\n",
    "import requests as re\n",
    "import pandas as pd\n",
    "\n",
    "api = 'https://api.binance.com/api/v3/klines'\n",
    "g_api_key='eJBYUpKfnUCA5wXDfJTKGPNaOoyLtnXIb9D6GKFbnABLCndVRRYJrdyI9rMi6D54'\n",
    "g_secret_key='970sbCiGtH1W4rPW56I4MBbD9brKZegyveedljt3U3D5hry7zMbxa4sxacA80kUv'\n",
    "headers = {\"Accept\": \"application/json\"}\n",
    "\n",
    "epoch = datetime.utcfromtimestamp(0)\n",
    "\n",
    "def dt_to_ms(dt):\n",
    "    delta = dt - epoch\n",
    "    return int(delta.total_seconds() * 1000)\n",
    "\n",
    "def dt_from_ms(ms):\n",
    "    return datetime.utcfromtimestamp(ms / 1000.0)\n",
    "\n",
    "def json_to_df(json):\n",
    "    df = {'time':[],'open':[],'high':[],'low':[],'close':[],'volume':[]}\n",
    "    for item in json:\n",
    "        df['time'].append(dt_from_ms(item[0]))\n",
    "        df['open'].append(float(item[1]))\n",
    "        df['high'].append(float(item[2]))\n",
    "        df['low'].append(float(item[3]))\n",
    "        df['close'].append(float(item[4]))\n",
    "        df['volume'].append(float(item[5]))\n",
    "    return pd.DataFrame(df)"
   ]
  },
  {
   "cell_type": "code",
   "execution_count": 11,
   "metadata": {},
   "outputs": [
    {
     "data": {
      "text/plain": [
       "\"\\npair = 'ETHUSDT'\\ninterval = '1h'\\nstart_date = '20210401'\\nend_date = '20210512'\\nstart_year, start_month, start_day = int(start_date[0:4]), int(start_date[4:6]), int(start_date[6:8])\\nend_year, end_month, end_day = int(end_date[0:4]), int(end_date[4:6]), int(end_date[6:8])\\nstart_date = dt_to_ms(datetime(start_year, start_month, start_day))\\nend_date = dt_to_ms(datetime(end_year, end_month, end_day))\\nlimit = 1000\\nurl = api + '?symbol='+pair+'&interval='+interval+'&startTime='+str(start_date)+'&limit='+str(limit)\\nr = re.get(url, headers=headers)\\nresult = r.json()\\ndf = json_to_df(result)\\ndf['return'] = df['close'].pct_change(1)\\nplt.hist(df['return'].values)\\n\""
      ]
     },
     "execution_count": 11,
     "metadata": {},
     "output_type": "execute_result"
    }
   ],
   "source": [
    "# using binance data\n",
    "'''\n",
    "pair = 'ETHUSDT'\n",
    "interval = '1h'\n",
    "start_date = '20210401'\n",
    "end_date = '20210512'\n",
    "start_year, start_month, start_day = int(start_date[0:4]), int(start_date[4:6]), int(start_date[6:8])\n",
    "end_year, end_month, end_day = int(end_date[0:4]), int(end_date[4:6]), int(end_date[6:8])\n",
    "start_date = dt_to_ms(datetime(start_year, start_month, start_day))\n",
    "end_date = dt_to_ms(datetime(end_year, end_month, end_day))\n",
    "limit = 1000\n",
    "url = api + '?symbol='+pair+'&interval='+interval+'&startTime='+str(start_date)+'&limit='+str(limit)\n",
    "r = re.get(url, headers=headers)\n",
    "result = r.json()\n",
    "df = json_to_df(result)\n",
    "df['return'] = df['close'].pct_change(1)\n",
    "plt.hist(df['return'].values)\n",
    "'''"
   ]
  },
  {
   "cell_type": "code",
   "execution_count": 16,
   "metadata": {},
   "outputs": [
    {
     "data": {
      "text/plain": [
       "(array([ 1.,  5.,  4., 10., 25., 68., 69., 36., 12.,  8.]),\n",
       " array([-0.04482819, -0.03713898, -0.02944978, -0.02176057, -0.01407136,\n",
       "        -0.00638215,  0.00130706,  0.00899627,  0.01668548,  0.02437469,\n",
       "         0.03206389]),\n",
       " <BarContainer object of 10 artists>)"
      ]
     },
     "execution_count": 16,
     "metadata": {},
     "output_type": "execute_result"
    },
    {
     "data": {
      "image/png": "[encoded data removed]",
      "text/plain": [
       "<Figure size 432x288 with 1 Axes>"
      ]
     },
     "metadata": {
      "needs_background": "light"
     },
     "output_type": "display_data"
    }
   ],
   "source": [
    "# using uniswap data\n",
    "tokenA, tokenB = 'WETH','USDT'\n",
    "url = 'http://3.131.198.9:3003/api/market/pool/backtest/uniswap/'+tokenA+'/'+tokenB+'/10d/1h'\n",
    "r = re.get(url).json()['data']\n",
    "df = {'time':[],'close':[]}\n",
    "for item in r:\n",
    "    price = float(item[2]) / float(item[3])\n",
    "    df['time'].append(dt_from_ms(item[-1]))\n",
    "    df['close'].append(price)\n",
    "df = pd.DataFrame(df)\n",
    "df['return'] = df['close'].pct_change(1)\n",
    "plt.hist(df['return'].values)"
   ]
  },
  {
   "cell_type": "code",
   "execution_count": 17,
   "metadata": {},
   "outputs": [
    {
     "data": {
      "text/plain": [
       "<AxesSubplot:>"
      ]
     },
     "execution_count": 17,
     "metadata": {},
     "output_type": "execute_result"
    },
    {
     "data": {
      "image/png": "[encoded data removed]",
      "text/plain": [
       "<Figure size 432x288 with 1 Axes>"
      ]
     },
     "metadata": {
      "needs_background": "light"
     },
     "output_type": "display_data"
    }
   ],
   "source": [
    "df['close'].plot()"
   ]
  },
  {
   "cell_type": "code",
   "execution_count": 18,
   "metadata": {},
   "outputs": [
    {
     "data": {
      "text/plain": [
       "1.1967139364212929"
      ]
     },
     "execution_count": 18,
     "metadata": {},
     "output_type": "execute_result"
    }
   ],
   "source": [
    "drift = df['return'].dropna().mean()\n",
    "diffusion = df['return'].dropna().std()\n",
    "drift * 100\n",
    "drift=0\n",
    "diffusion * 100"
   ]
  },
  {
   "cell_type": "code",
   "execution_count": 19,
   "metadata": {},
   "outputs": [],
   "source": [
    "from numpy.random import normal\n",
    "import numpy as np\n",
    "import pandas as pd\n",
    "import math\n",
    "\n",
    "def price_simulation(start_value, drift, diffusion, n_periods):\n",
    "    returns = [1 + (drift + diffusion * normal()) for _ in range(n_periods)]\n",
    "    prices = [start_value * np.prod(returns[:i]) for i in range(len(returns))]\n",
    "    return (returns, prices)\n",
    "\n",
    "def price_simulation_gbm(start_value, drift, diffusion, n_periods):\n",
    "    prices = []\n",
    "    for _ in range(n_periods):\n",
    "        start_value *= math.exp((drift - (diffusion**2) / 2) + diffusion * normal())\n",
    "        prices.append(start_value)\n",
    "    return prices\n",
    "\n",
    "start_value = df.tail(1)['close'].values[0]\n",
    "n_simulations = 10000\n",
    "results = []\n",
    "for _ in range(n_simulations):\n",
    "    #returns, prices = price_simulation(start_value, drift, diffusion, 168)\n",
    "    prices = price_simulation_gbm(start_value, drift, diffusion, 24)\n",
    "    results.append(prices)\n",
    "terminal_values = [x[-1] for x in results]"
   ]
  },
  {
   "cell_type": "code",
   "execution_count": 20,
   "metadata": {},
   "outputs": [
    {
     "data": {
      "text/plain": [
       "(array([  12.,  224., 1089., 2525., 3110., 1995.,  797.,  215.,   25.,\n",
       "           8.]),\n",
       " array([3281.60095921, 3477.41366953, 3673.22637986, 3869.03909018,\n",
       "        4064.8518005 , 4260.66451083, 4456.47722115, 4652.28993148,\n",
       "        4848.1026418 , 5043.91535212, 5239.72806245]),\n",
       " <BarContainer object of 10 artists>)"
      ]
     },
     "execution_count": 20,
     "metadata": {},
     "output_type": "execute_result"
    },
    {
     "data": {
      "image/png": "[encoded data removed]",
      "text/plain": [
       "<Figure size 432x288 with 1 Axes>"
      ]
     },
     "metadata": {
      "needs_background": "light"
     },
     "output_type": "display_data"
    }
   ],
   "source": [
    "import matplotlib.pyplot as plt\n",
    "%matplotlib inline\n",
    "\n",
    "plt.hist(terminal_values)"
   ]
  },
  {
   "cell_type": "code",
   "execution_count": 21,
   "metadata": {},
   "outputs": [
    {
     "data": {
      "text/plain": [
       "[(3676.187, 4651.009], (3676.187, 4651.009], (3676.187, 4651.009], (3676.187, 4651.009], (3676.187, 4651.009], ..., (3676.187, 4651.009], NaN, (3676.187, 4651.009], (3676.187, 4651.009], (3676.187, 4651.009]]\n",
       "Length: 10000\n",
       "Categories (1, interval[float64]): [(3676.187, 4651.009]]"
      ]
     },
     "execution_count": 21,
     "metadata": {},
     "output_type": "execute_result"
    }
   ],
   "source": [
    "pd.qcut(terminal_values, [0.025, 0.975])"
   ]
  },
  {
   "cell_type": "code",
   "execution_count": null,
   "metadata": {},
   "outputs": [],
   "source": []
  },
  {
   "cell_type": "code",
   "execution_count": null,
   "metadata": {},
   "outputs": [],
   "source": []
  },
  {
   "cell_type": "code",
   "execution_count": null,
   "metadata": {},
   "outputs": [],
   "source": []
  }
 ],
 "metadata": {
  "kernelspec": {
   "display_name": "Python 3",
   "language": "python",
   "name": "python3"
  },
  "language_info": {
   "codemirror_mode": {
    "name": "ipython",
    "version": 3
   },
   "file_extension": ".py",
   "mimetype": "text/x-python",
   "name": "python",
   "nbconvert_exporter": "python",
   "pygments_lexer": "ipython3",
   "version": "3.9.2"
  }
 },
 "nbformat": 4,
 "nbformat_minor": 4
}
