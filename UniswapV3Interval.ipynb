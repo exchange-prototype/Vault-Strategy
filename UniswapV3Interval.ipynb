{
 "cells": [
  {
   "cell_type": "code",
   "execution_count": 93,
   "metadata": {},
   "outputs": [],
   "source": [
    "# d for coin futures, f for usd s futures\n",
    "from datetime import datetime, timedelta\n",
    "import pandas as pd\n",
    "import matplotlib.pyplot as plt\n",
    "import requests as re\n",
    "import pandas as pd\n",
    "\n",
    "api = 'https://api.binance.com/api/v3/klines'\n",
    "g_api_key='eJBYUpKfnUCA5wXDfJTKGPNaOoyLtnXIb9D6GKFbnABLCndVRRYJrdyI9rMi6D54'\n",
    "g_secret_key='970sbCiGtH1W4rPW56I4MBbD9brKZegyveedljt3U3D5hry7zMbxa4sxacA80kUv'\n",
    "headers = {\"Accept\": \"application/json\"}\n",
    "\n",
    "epoch = datetime.utcfromtimestamp(0)\n",
    "\n",
    "def dt_to_ms(dt):\n",
    "    delta = dt - epoch\n",
    "    return int(delta.total_seconds() * 1000)\n",
    "\n",
    "def dt_from_ms(ms):\n",
    "    return datetime.utcfromtimestamp(ms / 1000.0)\n",
    "\n",
    "def json_to_df(json):\n",
    "    df = {'time':[],'open':[],'high':[],'low':[],'close':[],'volume':[]}\n",
    "    for item in json:\n",
    "        df['time'].append(dt_from_ms(item[0]))\n",
    "        df['open'].append(float(item[1]))\n",
    "        df['high'].append(float(item[2]))\n",
    "        df['low'].append(float(item[3]))\n",
    "        df['close'].append(float(item[4]))\n",
    "        df['volume'].append(float(item[5]))\n",
    "    return pd.DataFrame(df)"
   ]
  },
  {
   "cell_type": "code",
   "execution_count": 118,
   "metadata": {},
   "outputs": [
    {
     "data": {
      "text/plain": [
       "(array([  3.,   6.,  12.,  53., 204., 432., 193.,  52.,  12.,   6.]),\n",
       " array([-0.05316816, -0.04327912, -0.03339008, -0.02350104, -0.01361199,\n",
       "        -0.00372295,  0.00616609,  0.01605513,  0.02594417,  0.03583322,\n",
       "         0.04572226]),\n",
       " <BarContainer object of 10 artists>)"
      ]
     },
     "execution_count": 118,
     "metadata": {},
     "output_type": "execute_result"
    },
    {
     "data": {
      "image/png": "[encoded data removed]",
      "text/plain": [
       "<Figure size 432x288 with 1 Axes>"
      ]
     },
     "metadata": {
      "needs_background": "light"
     },
     "output_type": "display_data"
    }
   ],
   "source": [
    "pair = 'ETHUSDT'\n",
    "interval = '1h'\n",
    "start_date = '20210401'\n",
    "end_date = '20210512'\n",
    "start_year, start_month, start_day = int(start_date[0:4]), int(start_date[4:6]), int(start_date[6:8])\n",
    "end_year, end_month, end_day = int(end_date[0:4]), int(end_date[4:6]), int(end_date[6:8])\n",
    "start_date = dt_to_ms(datetime(start_year, start_month, start_day))\n",
    "end_date = dt_to_ms(datetime(end_year, end_month, end_day))\n",
    "limit = 1000\n",
    "url = api + '?symbol='+pair+'&interval='+interval+'&startTime='+str(start_date)+'&limit='+str(limit)\n",
    "r = re.get(url, headers=headers)\n",
    "result = r.json()\n",
    "df = json_to_df(result)\n",
    "df['return'] = df['close'].pct_change(1)\n",
    "plt.hist(df['return'].values)"
   ]
  },
  {
   "cell_type": "code",
   "execution_count": 119,
   "metadata": {},
   "outputs": [
    {
     "data": {
      "text/plain": [
       "<AxesSubplot:>"
      ]
     },
     "execution_count": 119,
     "metadata": {},
     "output_type": "execute_result"
    },
    {
     "data": {
      "image/png": "[encoded data removed]",
      "text/plain": [
       "<Figure size 432x288 with 1 Axes>"
      ]
     },
     "metadata": {
      "needs_background": "light"
     },
     "output_type": "display_data"
    }
   ],
   "source": [
    "df['close'].plot()"
   ]
  },
  {
   "cell_type": "code",
   "execution_count": 120,
   "metadata": {},
   "outputs": [
    {
     "data": {
      "text/plain": [
       "1.1198552097555583"
      ]
     },
     "execution_count": 120,
     "metadata": {},
     "output_type": "execute_result"
    }
   ],
   "source": [
    "drift = df['return'].dropna().mean()\n",
    "diffusion = df['return'].dropna().std()\n",
    "drift * 100\n",
    "drift=0\n",
    "diffusion * 100"
   ]
  },
  {
   "cell_type": "code",
   "execution_count": 127,
   "metadata": {},
   "outputs": [],
   "source": [
    "from numpy.random import normal\n",
    "import numpy as np\n",
    "import pandas as pd\n",
    "import math\n",
    "\n",
    "def price_simulation(start_value, drift, diffusion, n_periods):\n",
    "    returns = [1 + (drift + diffusion * normal()) for _ in range(n_periods)]\n",
    "    prices = [start_value * np.prod(returns[:i]) for i in range(len(returns))]\n",
    "    return (returns, prices)\n",
    "\n",
    "def price_simulation_gbm(start_value, drift, diffusion, n_periods):\n",
    "    prices = []\n",
    "    for _ in range(n_periods):\n",
    "        start_value *= math.exp((drift - (diffusion**2) / 2) + diffusion * normal())\n",
    "        prices.append(start_value)\n",
    "    return prices\n",
    "\n",
    "start_value = df.tail(1)['close'].values[0]\n",
    "n_simulations = 10000\n",
    "results = []\n",
    "for _ in range(n_simulations):\n",
    "    #returns, prices = price_simulation(start_value, drift, diffusion, 168)\n",
    "    prices = price_simulation_gbm(start_value, drift, diffusion, 24)\n",
    "    results.append(prices)\n",
    "terminal_values = [x[-1] for x in results]"
   ]
  },
  {
   "cell_type": "code",
   "execution_count": 128,
   "metadata": {},
   "outputs": [
    {
     "data": {
      "text/plain": [
       "(array([  52.,  396., 1281., 2460., 2794., 1851.,  858.,  246.,   54.,\n",
       "           8.]),\n",
       " array([3372.60495982, 3530.14148579, 3687.67801177, 3845.21453774,\n",
       "        4002.75106372, 4160.28758969, 4317.82411567, 4475.36064164,\n",
       "        4632.89716762, 4790.43369359, 4947.97021956]),\n",
       " <BarContainer object of 10 artists>)"
      ]
     },
     "execution_count": 128,
     "metadata": {},
     "output_type": "execute_result"
    },
    {
     "data": {
      "image/png": "[encoded data removed]",
      "text/plain": [
       "<Figure size 432x288 with 1 Axes>"
      ]
     },
     "metadata": {
      "needs_background": "light"
     },
     "output_type": "display_data"
    }
   ],
   "source": [
    "import matplotlib.pyplot as plt\n",
    "%matplotlib inline\n",
    "\n",
    "plt.hist(terminal_values)"
   ]
  },
  {
   "cell_type": "code",
   "execution_count": 129,
   "metadata": {},
   "outputs": [
    {
     "data": {
      "text/plain": [
       "[(3637.819, 4496.935], (3637.819, 4496.935], (3637.819, 4496.935], (3637.819, 4496.935], (3637.819, 4496.935], ..., (3637.819, 4496.935], (3637.819, 4496.935], (3637.819, 4496.935], (3637.819, 4496.935], (3637.819, 4496.935]]\n",
       "Length: 10000\n",
       "Categories (1, interval[float64]): [(3637.819, 4496.935]]"
      ]
     },
     "execution_count": 129,
     "metadata": {},
     "output_type": "execute_result"
    }
   ],
   "source": [
    "pd.qcut(terminal_values, [0.025, 0.975])"
   ]
  },
  {
   "cell_type": "code",
   "execution_count": null,
   "metadata": {},
   "outputs": [],
   "source": []
  },
  {
   "cell_type": "code",
   "execution_count": null,
   "metadata": {},
   "outputs": [],
   "source": []
  },
  {
   "cell_type": "code",
   "execution_count": null,
   "metadata": {},
   "outputs": [],
   "source": []
  }
 ],
 "metadata": {
  "kernelspec": {
   "display_name": "Python 3",
   "language": "python",
   "name": "python3"
  },
  "language_info": {
   "codemirror_mode": {
    "name": "ipython",
    "version": 3
   },
   "file_extension": ".py",
   "mimetype": "text/x-python",
   "name": "python",
   "nbconvert_exporter": "python",
   "pygments_lexer": "ipython3",
   "version": "3.9.2"
  }
 },
 "nbformat": 4,
 "nbformat_minor": 4
}
